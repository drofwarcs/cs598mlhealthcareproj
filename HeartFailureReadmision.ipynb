{
 "cells": [
  {
   "cell_type": "code",
   "execution_count": 19,
   "metadata": {
    "id": "wPxv9EDTOTTH"
   },
   "outputs": [],
   "source": [
    "import pandas as pd\n",
    "import numpy as np\n",
    "import os\n",
    "import warnings\n",
    "from gensim.models import KeyedVectors\n",
    "from gensim.test.utils import datapath"
   ]
  },
  {
   "cell_type": "markdown",
   "metadata": {},
   "source": [
    "Need to download the word2vec data. If using SageMaker, its advised to manually upload the file to the file system so its persisted between runs(1). Other wise we upload it each new run of the notebook(2)."
   ]
  },
  {
   "cell_type": "code",
   "execution_count": 20,
   "metadata": {},
   "outputs": [
    {
     "name": "stdout",
     "output_type": "stream",
     "text": [
      "--2023-04-04 01:08:45--  http://evexdb.org/pmresources/vec-space-models/PubMed-and-PMC-w2v.bin\n",
      "Resolving evexdb.org (evexdb.org)... 130.232.253.13\n",
      "Connecting to evexdb.org (evexdb.org)|130.232.253.13|:80... connected.\n",
      "HTTP request sent, awaiting response... 200 OK\n",
      "Length: 3317501420 (3.1G) [application/octet-stream]\n",
      "Saving to: 'PubMed-and-PMC-w2v.bin'\n",
      "\n",
      "PubMed-and-PMC-w2v. 100%[===================>]   3.09G  1.02MB/s    in 54m 1s  \n",
      "\n",
      "2023-04-04 02:02:46 (1000 KB/s) - 'PubMed-and-PMC-w2v.bin' saved [3317501420/3317501420]\n",
      "\n"
     ]
    }
   ],
   "source": [
    "#2 file has not been uploaded. upload the file first.\n",
    "w2vec_url = 'http://evexdb.org/pmresources/vec-space-models/'\n",
    "w2vec_filename = 'PubMed-and-PMC-w2v.bin'\n",
    "if not os.path.isfile(w2vec_filename):\n",
    "    !wget {w2vec_url}{w2vec_filename}"
   ]
  },
  {
   "cell_type": "code",
   "execution_count": 21,
   "metadata": {},
   "outputs": [
    {
     "data": {
      "text/plain": [
       "<gensim.models.keyedvectors.KeyedVectors at 0x7f6a0397e5e0>"
      ]
     },
     "execution_count": 21,
     "metadata": {},
     "output_type": "execute_result"
    }
   ],
   "source": [
    "#1. file already uploaded to sagemaker file system or uploaded in previous cell. Uncomment below code and change path to the absolute path of the file\n",
    "wv = KeyedVectors.load_word2vec_format(datapath(\"/home/studio-lab-user/cs598mlhealthcareproj/PubMed-and-PMC-w2v.bin\"), binary=True)\n",
    "wv"
   ]
  },
  {
   "cell_type": "code",
   "execution_count": 22,
   "metadata": {},
   "outputs": [
    {
     "data": {
      "text/plain": [
       "[('cancers', 0.8469958901405334),\n",
       " ('caner', 0.8013955950737),\n",
       " ('CRC', 0.7591984868049622),\n",
       " ('PCa', 0.7489126920700073),\n",
       " ('breast', 0.7433505058288574),\n",
       " ('NSCLC', 0.735542893409729),\n",
       " ('colorectal', 0.729973316192627),\n",
       " ('cancer.14', 0.7255098819732666),\n",
       " ('cancer.8', 0.7169674038887024),\n",
       " ('adenocarcinoma', 0.7158289551734924)]"
      ]
     },
     "execution_count": 22,
     "metadata": {},
     "output_type": "execute_result"
    }
   ],
   "source": [
    "sims = wv.most_similar('cancer', topn=10)\n",
    "sims"
   ]
  },
  {
   "cell_type": "code",
   "execution_count": null,
   "metadata": {},
   "outputs": [],
   "source": []
  }
 ],
 "metadata": {
  "colab": {
   "provenance": []
  },
  "kernelspec": {
   "display_name": "environment:Python",
   "language": "python",
   "name": "conda-env-environment-py"
  },
  "language_info": {
   "codemirror_mode": {
    "name": "ipython",
    "version": 3
   },
   "file_extension": ".py",
   "mimetype": "text/x-python",
   "name": "python",
   "nbconvert_exporter": "python",
   "pygments_lexer": "ipython3",
   "version": "3.9.16"
  }
 },
 "nbformat": 4,
 "nbformat_minor": 4
}
