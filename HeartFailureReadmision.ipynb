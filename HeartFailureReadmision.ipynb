{
 "cells": [
  {
   "cell_type": "code",
   "execution_count": null,
   "metadata": {
    "tags": []
   },
   "outputs": [],
   "source": [
    "%pip install gensim\n",
    "#%pip install pyhealth"
   ]
  },
  {
   "cell_type": "code",
   "execution_count": null,
   "metadata": {
    "id": "wPxv9EDTOTTH",
    "tags": []
   },
   "outputs": [],
   "source": [
    "import pandas as pd\n",
    "import numpy as np\n",
    "#import pyhealth\n",
    "import os\n",
    "import warnings\n",
    "import sagemaker\n",
    "from gensim.models import KeyedVectors\n",
    "from gensim.test.utils import datapath\n",
    "import tensorflow as tf\n",
    "from tensorflow.keras.preprocessing.text import Tokenizer\n",
    "from tensorflow.keras.preprocessing.sequence import pad_sequences\n",
    "from tensorflow.keras.layers import Embedding, Conv1D, GlobalMaxPooling1D, Dense, Input\n",
    "from sklearn.metrics import accuracy_score, precision_score, recall_score, f1_score\n",
    "from sklearn.feature_extraction.text import TfidfVectorizer, CountVectorizer\n",
    "from sklearn.ensemble import RandomForestClassifier\n",
    "from sklearn.model_selection import train_test_split\n",
    "from sklearn.feature_selection import chi2\n",
    "from tensorflow.keras.models import Model\n",
    "#from sagemaker.tensorflow import TensorFlow\n"
   ]
  },
  {
   "cell_type": "markdown",
   "metadata": {},
   "source": [
    "We will first import the data needed for this experiment"
   ]
  },
  {
   "cell_type": "code",
   "execution_count": null,
   "metadata": {},
   "outputs": [],
   "source": [
    "#1. The PubMed word2vec vectors\n",
    "w2vec_url = 'http://evexdb.org/pmresources/vec-space-models/'\n",
    "w2vec_filename = 'PubMed-and-PMC-w2v.bin'\n",
    "if not os.path.isfile('./data/' + w2vec_filename):\n",
    "    !cd data\n",
    "    !wget {w2vec_url}{w2vec_filename}"
   ]
  },
  {
   "cell_type": "code",
   "execution_count": null,
   "metadata": {
    "tags": []
   },
   "outputs": [],
   "source": [
    "#2. The admissions records from MIMIC III\n",
    "\n",
    "admission_df = pd.read_csv(os.getcwd() + '/data/ADMISSIONS.csv.gz')\n",
    "admission_df.head()"
   ]
  },
  {
   "cell_type": "code",
   "execution_count": null,
   "metadata": {
    "tags": []
   },
   "outputs": [],
   "source": [
    "#3. The ICD Diagnoses records from MIMIC III\n",
    "diagnoses_df = pd.read_csv(os.getcwd() + '/data/DIAGNOSES_ICD.csv.gz')\n",
    "diagnoses_df.head()"
   ]
  },
  {
   "cell_type": "code",
   "execution_count": null,
   "metadata": {
    "tags": []
   },
   "outputs": [],
   "source": [
    "%%time\n",
    "#4. The notes records from MIMIC III\n",
    "\n",
    "notes_df = pd.read_csv(os.getcwd() + '/data/NOTEEVENTS.csv.gz')\n",
    "notes_df.head()"
   ]
  },
  {
   "cell_type": "code",
   "execution_count": null,
   "metadata": {
    "tags": []
   },
   "outputs": [],
   "source": [
    "# ICD-9 codes for heart failure. The paper had the origional ICD numbers with decimel in place. The MIMIC dataset removed all decimels.\n",
    "# The codes below match the MIMIC III ICD codes (i.e. without decimals)\n",
    "hf_icd9_codes = [\n",
    "    '39891', '40201', '40211', '40291', '40401', '40403', '40411',\n",
    "    '40413', '40491', '40493', '4280', '4281', '42820', '42821',\n",
    "    '42822', '42823', '42830', '42831', '42832', '42833', '42840',\n",
    "    '42841', '42842', '42843', '4289'\n",
    "]"
   ]
  },
  {
   "cell_type": "code",
   "execution_count": null,
   "metadata": {
    "tags": []
   },
   "outputs": [],
   "source": [
    "#Filter out all diagnoses that does not pertain to heart failure diagnoses\n",
    "hf_diagnoses_df = diagnoses_df[diagnoses_df['ICD9_CODE'].isin(hf_icd9_codes)]\n",
    "hf_diagnoses_df.head()"
   ]
  },
  {
   "cell_type": "code",
   "execution_count": null,
   "metadata": {
    "tags": []
   },
   "outputs": [],
   "source": [
    "#filter out all the notes that are note of the category \"Discharge summary\". Also cleaned converted type of HADM_ID in notes_df becuase they\n",
    "#were imported as floats while other other MIMIC III data imported this column as ints\n",
    "\n",
    "discharge_notes_df = notes_df[notes_df[\"CATEGORY\"] == \"Discharge summary\"]\n",
    "discharge_notes_df = discharge_notes_df.round().astype({'HADM_ID':'int64'})\n",
    "discharge_notes_df.head()"
   ]
  },
  {
   "cell_type": "code",
   "execution_count": null,
   "metadata": {
    "tags": []
   },
   "outputs": [],
   "source": [
    "#Create one dataframe that has all the data we want\n",
    "intermediate_df = admission_df.merge(discharge_notes_df, how=\"left\", on=\"HADM_ID\")\n",
    "admission_diagnoses_notes_df = intermediate_df.merge(hf_diagnoses_df, how=\"left\", on=\"HADM_ID\")\n",
    "admission_diagnoses_notes_df.head()"
   ]
  },
  {
   "cell_type": "code",
   "execution_count": null,
   "metadata": {
    "tags": []
   },
   "outputs": [],
   "source": [
    "#Drop all rows where the patient was NOT diagnosed with a heart failure related ICD9 code\n",
    "admission_diagnoses_notes_df = admission_diagnoses_notes_df.dropna(subset=[\"ICD9_CODE\"]).reset_index()\n",
    "admission_diagnoses_notes_df.head()"
   ]
  },
  {
   "cell_type": "code",
   "execution_count": null,
   "metadata": {
    "tags": []
   },
   "outputs": [],
   "source": [
    "#Drop all rows where a discharge summary does not exist\n",
    "admission_diagnoses_notes_df= admission_diagnoses_notes_df.dropna(subset=[\"CATEGORY\"]).reset_index()\n",
    "admission_diagnoses_notes_df.head(2)"
   ]
  },
  {
   "cell_type": "code",
   "execution_count": null,
   "metadata": {
    "tags": []
   },
   "outputs": [],
   "source": [
    "admission_diagnoses_notes_df = admission_diagnoses_notes_df.drop([\"level_0\", \"index\"], axis=1)\n",
    "admission_diagnoses_notes_df.head()"
   ]
  },
  {
   "cell_type": "code",
   "execution_count": null,
   "metadata": {
    "tags": []
   },
   "outputs": [],
   "source": [
    "admission_diagnoses_notes_df[\"ADMITTIME\"] = pd.to_datetime(admission_diagnoses_notes_df[\"ADMITTIME\"])\n",
    "admission_diagnoses_notes_df[\"DISCHTIME\"] = pd.to_datetime(admission_diagnoses_notes_df[\"DISCHTIME\"])\n",
    "admission_diagnoses_notes_df.head()"
   ]
  },
  {
   "cell_type": "code",
   "execution_count": null,
   "metadata": {
    "tags": []
   },
   "outputs": [],
   "source": [
    "admission_diagnoses_notes_df[\"SAME_SUBJECT_ID\"] = admission_diagnoses_notes_df[\"SUBJECT_ID_x\"] == admission_diagnoses_notes_df[\"SUBJECT_ID_x\"].shift(1)\n",
    "admission_diagnoses_notes_df[\"SAME_HADM_ID\"] = admission_diagnoses_notes_df[\"HADM_ID\"] == admission_diagnoses_notes_df[\"HADM_ID\"].shift(1)\n",
    "admission_diagnoses_notes_df.head(2)"
   ]
  },
  {
   "cell_type": "code",
   "execution_count": null,
   "metadata": {},
   "outputs": [],
   "source": [
    "readmit_times = []\n",
    "\n",
    "subject_id = 0\n",
    "hadm_id = 0\n",
    "dischtime = pd.Timedelta(0)\n",
    "last_time = pd.Timedelta(0)\n",
    "for i in range(len(admission_diagnoses_notes_df)):\n",
    "    \n",
    "    if admission_diagnoses_notes_df[\"SUBJECT_ID_x\"][i] != subject_id:\n",
    "        subject_id = admission_diagnoses_notes_df[\"SUBJECT_ID_x\"][i]\n",
    "        hadm_id = admission_diagnoses_notes_df[\"HADM_ID\"][i]\n",
    "        dischtime = admission_diagnoses_notes_df[\"DISCHTIME\"][i]\n",
    "        \n",
    "        readmit_times.append(pd.Timedelta(0))\n",
    "        \n",
    "    elif (admission_diagnoses_notes_df[\"SUBJECT_ID_x\"][i] == subject_id) and (admission_diagnoses_notes_df[\"HADM_ID\"][i] == hadm_id) and (readmit_times[-1] == pd.Timedelta(0)):\n",
    "        readmit_times.append(pd.Timedelta(0))\n",
    "        \n",
    "    elif (admission_diagnoses_notes_df[\"SUBJECT_ID_x\"][i] == subject_id) and (admission_diagnoses_notes_df[\"HADM_ID\"][i] != hadm_id):\n",
    "        readmit_times.append(admission_diagnoses_notes_df[\"ADMITTIME\"][i] - dischtime)\n",
    "        \n",
    "        last_time = admission_diagnoses_notes_df[\"ADMITTIME\"][i] - dischtime\n",
    "        hadm_id = admission_diagnoses_notes_df[\"HADM_ID\"][i]\n",
    "        dischtime = admission_diagnoses_notes_df[\"DISCHTIME\"][i]\n",
    "        \n",
    "    elif (admission_diagnoses_notes_df[\"SUBJECT_ID_x\"][i] == subject_id) and (admission_diagnoses_notes_df[\"HADM_ID\"][i] == hadm_id):\n",
    "        readmit_times.append(last_time)\n",
    "        \n",
    "    else:\n",
    "        readmit_times.append(pd.Timedelta(0))"
   ]
  },
  {
   "cell_type": "code",
   "execution_count": null,
   "metadata": {
    "tags": []
   },
   "outputs": [],
   "source": [
    "admission_diagnoses_notes_df[\"READMISSION_TIMES\"] = readmit_times"
   ]
  },
  {
   "cell_type": "code",
   "execution_count": null,
   "metadata": {
    "tags": []
   },
   "outputs": [],
   "source": [
    "admission_diagnoses_notes_df[admission_diagnoses_notes_df[\"SUBJECT_ID_x\"] == 357]"
   ]
  },
  {
   "cell_type": "code",
   "execution_count": null,
   "metadata": {
    "tags": []
   },
   "outputs": [],
   "source": [
    "general_readmission = []\n",
    "\n",
    "subject_id = 0\n",
    "hadm_id = 0\n",
    "for i in range(len(admission_diagnoses_notes_df) - 1, -1, -1):\n",
    "        \n",
    "    if (admission_diagnoses_notes_df[\"SUBJECT_ID_x\"][i] != subject_id):\n",
    "        subject_id = admission_diagnoses_notes_df[\"SUBJECT_ID_x\"][i]\n",
    "        hadm_id = admission_diagnoses_notes_df[\"HADM_ID\"][i]\n",
    "        \n",
    "        general_readmission.append(0)\n",
    "        \n",
    "    elif (admission_diagnoses_notes_df[\"SUBJECT_ID_x\"][i] == subject_id) and (admission_diagnoses_notes_df[\"HADM_ID\"][i] != hadm_id):\n",
    "        general_readmission.append(1)\n",
    "        \n",
    "        \n",
    "    else:\n",
    "        general_readmission.append(0)"
   ]
  },
  {
   "cell_type": "code",
   "execution_count": null,
   "metadata": {
    "tags": []
   },
   "outputs": [],
   "source": [
    "admission_diagnoses_notes_df[\"GENERAL_READMISSION\"] = list(reversed(general_readmission))"
   ]
  },
  {
   "cell_type": "code",
   "execution_count": null,
   "metadata": {
    "tags": []
   },
   "outputs": [],
   "source": [
    "admission_diagnoses_notes_df[admission_diagnoses_notes_df[\"SUBJECT_ID_x\"] == 357]"
   ]
  },
  {
   "cell_type": "code",
   "execution_count": null,
   "metadata": {
    "tags": []
   },
   "outputs": [],
   "source": [
    "thirtyday_readmission = []\n",
    "\n",
    "subject_id = 0\n",
    "hadm_id = 0\n",
    "for i in range(len(admission_diagnoses_notes_df) - 1, -1, -1):\n",
    "        \n",
    "    if (admission_diagnoses_notes_df[\"SUBJECT_ID_x\"][i] != subject_id):\n",
    "        subject_id = admission_diagnoses_notes_df[\"SUBJECT_ID_x\"][i]\n",
    "        hadm_id = admission_diagnoses_notes_df[\"HADM_ID\"][i]\n",
    "        \n",
    "        thirtyday_readmission.append(0)\n",
    "        \n",
    "    elif (admission_diagnoses_notes_df[\"SUBJECT_ID_x\"][i] == subject_id) and (admission_diagnoses_notes_df[\"HADM_ID\"][i] != hadm_id) and (admission_diagnoses_notes_df[\"READMISSION_TIMES\"][i] < pd.Timedelta(days=30)) and (admission_diagnoses_notes_df[\"READMISSION_TIMES\"][i] > pd.Timedelta(days=0)):\n",
    "        thirtyday_readmission.append(1)\n",
    "        \n",
    "    else:\n",
    "        thirtyday_readmission.append(0)"
   ]
  },
  {
   "cell_type": "code",
   "execution_count": null,
   "metadata": {
    "tags": []
   },
   "outputs": [],
   "source": [
    "admission_diagnoses_notes_df[\"THIRTYDAY_READMISSION\"] = list(reversed(thirtyday_readmission))"
   ]
  },
  {
   "cell_type": "code",
   "execution_count": null,
   "metadata": {
    "tags": []
   },
   "outputs": [],
   "source": [
    "admission_diagnoses_notes_df.shape[0]"
   ]
  },
  {
   "cell_type": "code",
   "execution_count": null,
   "metadata": {
    "tags": []
   },
   "outputs": [],
   "source": [
    "sum(admission_diagnoses_notes_df['GENERAL_READMISSION'])"
   ]
  },
  {
   "cell_type": "code",
   "execution_count": null,
   "metadata": {
    "tags": []
   },
   "outputs": [],
   "source": [
    "sum(admission_diagnoses_notes_df['THIRTYDAY_READMISSION'])"
   ]
  },
  {
   "cell_type": "code",
   "execution_count": null,
   "metadata": {
    "tags": []
   },
   "outputs": [],
   "source": [
    "true_gen_readmit = admission_diagnoses_notes_df[admission_diagnoses_notes_df[\"GENERAL_READMISSION\"] == True]"
   ]
  },
  {
   "cell_type": "code",
   "execution_count": null,
   "metadata": {
    "tags": []
   },
   "outputs": [],
   "source": [
    "false_gen_readmit = admission_diagnoses_notes_df[admission_diagnoses_notes_df[\"GENERAL_READMISSION\"] == False].sample(n=sum(admission_diagnoses_notes_df[\"GENERAL_READMISSION\"]), random_state=1)"
   ]
  },
  {
   "cell_type": "code",
   "execution_count": null,
   "metadata": {
    "tags": []
   },
   "outputs": [],
   "source": [
    "gen_readmission_dataset = pd.concat([true_gen_readmit, false_gen_readmit])\n",
    "gen_readmission_dataset.head()"
   ]
  },
  {
   "cell_type": "code",
   "execution_count": null,
   "metadata": {
    "tags": []
   },
   "outputs": [],
   "source": [
    "gen_readmission_dataset.shape[0]"
   ]
  },
  {
   "cell_type": "code",
   "execution_count": null,
   "metadata": {
    "tags": []
   },
   "outputs": [],
   "source": [
    "true_thirty_readmit = admission_diagnoses_notes_df[admission_diagnoses_notes_df[\"THIRTYDAY_READMISSION\"] == True]"
   ]
  },
  {
   "cell_type": "code",
   "execution_count": null,
   "metadata": {
    "tags": []
   },
   "outputs": [],
   "source": [
    "false_thirty_readmit = admission_diagnoses_notes_df[admission_diagnoses_notes_df[\"THIRTYDAY_READMISSION\"] == False].sample(n=sum(admission_diagnoses_notes_df[\"THIRTYDAY_READMISSION\"]), random_state=1)"
   ]
  },
  {
   "cell_type": "code",
   "execution_count": null,
   "metadata": {
    "tags": []
   },
   "outputs": [],
   "source": [
    "thirty_readmission_dataset = pd.concat([true_thirty_readmit, false_thirty_readmit])\n",
    "thirty_readmission_dataset.head()"
   ]
  },
  {
   "cell_type": "code",
   "execution_count": null,
   "metadata": {
    "tags": []
   },
   "outputs": [],
   "source": [
    "thirty_readmission_dataset.shape[0]"
   ]
  },
  {
   "cell_type": "code",
   "execution_count": null,
   "metadata": {
    "tags": []
   },
   "outputs": [],
   "source": [
    "gen_readmission_dataset = gen_readmission_dataset.sample(frac=1)\n",
    "ratio = 0.9\n",
    " \n",
    "total_rows = gen_readmission_dataset.shape[0]\n",
    "train_size = int(total_rows*ratio)\n",
    " \n",
    "# Split data into test and train\n",
    "train_gen = gen_readmission_dataset[0:train_size]\n",
    "test_gen = gen_readmission_dataset[train_size:]"
   ]
  },
  {
   "cell_type": "code",
   "execution_count": null,
   "metadata": {
    "tags": []
   },
   "outputs": [],
   "source": [
    "thirty_readmission_dataset = thirty_readmission_dataset.sample(frac=1)\n",
    "ratio = 0.9\n",
    " \n",
    "total_rows = thirty_readmission_dataset.shape[0]\n",
    "train_size = int(total_rows*ratio)\n",
    " \n",
    "# Split data into test and train\n",
    "train_thirty = thirty_readmission_dataset[0:train_size]\n",
    "test_thirty = thirty_readmission_dataset[train_size:]"
   ]
  },
  {
   "cell_type": "code",
   "execution_count": null,
   "metadata": {
    "tags": []
   },
   "outputs": [],
   "source": [
    "train_gen.head()"
   ]
  },
  {
   "cell_type": "code",
   "execution_count": null,
   "metadata": {
    "tags": []
   },
   "outputs": [],
   "source": [
    "test_gen.head()"
   ]
  },
  {
   "cell_type": "code",
   "execution_count": null,
   "metadata": {
    "tags": []
   },
   "outputs": [],
   "source": [
    "train_thirty.head()"
   ]
  },
  {
   "cell_type": "code",
   "execution_count": null,
   "metadata": {
    "tags": []
   },
   "outputs": [],
   "source": [
    "test_thirty.head()"
   ]
  },
  {
   "cell_type": "code",
   "execution_count": null,
   "metadata": {
    "tags": []
   },
   "outputs": [],
   "source": [
    "train_gen.shape[0]"
   ]
  },
  {
   "cell_type": "code",
   "execution_count": null,
   "metadata": {
    "tags": []
   },
   "outputs": [],
   "source": [
    "train_thirty.shape[0]"
   ]
  },
  {
   "cell_type": "markdown",
   "metadata": {},
   "source": [
    "Now to start building out the CNN. Defining a few functions that can be reused for ML models"
   ]
  },
  {
   "cell_type": "code",
   "execution_count": null,
   "metadata": {
    "tags": []
   },
   "outputs": [],
   "source": [
    "def values_labels(training_set, test_set):\n",
    "    train_texts = training_set['TEXT'].values\n",
    "    test_texts = test_set['TEXT'].values\n",
    "    train_labels = training_set['GENERAL_READMISSION'].values\n",
    "    test_labels = test_set['GENERAL_READMISSION'].values\n",
    "    return train_texts, test_texts, train_labels, test_labels\n"
   ]
  },
  {
   "cell_type": "code",
   "execution_count": null,
   "metadata": {
    "tags": []
   },
   "outputs": [],
   "source": [
    "word2vec_path = os.getcwd() + '/data/PubMed-and-PMC-w2v.bin'\n",
    "word2vec_model = KeyedVectors.load_word2vec_format(datapath(word2vec_path), binary=True)\n",
    "embedding_dim = word2vec_model.vector_size"
   ]
  },
  {
   "cell_type": "code",
   "execution_count": null,
   "metadata": {
    "tags": []
   },
   "outputs": [],
   "source": [
    "def build_embedding_info(training_texts, testing_texts):\n",
    "    tokenizer = Tokenizer()\n",
    "    tokenizer.fit_on_texts(training_texts)\n",
    "    train_sequences = tokenizer.texts_to_sequences(training_texts)\n",
    "    test_sequences = tokenizer.texts_to_sequences(testing_texts)\n",
    "    \n",
    "    max_sequence_length = max([len(seq) for seq in train_sequences])\n",
    "    train_padded = pad_sequences(train_sequences, maxlen=max_sequence_length, padding='post')\n",
    "    test_padded = pad_sequences(test_sequences, maxlen=max_sequence_length, padding='post')\n",
    "    \n",
    "    vocab_size = len(tokenizer.word_index) + 1\n",
    "\n",
    "    embedding_matrix = np.zeros((vocab_size, embedding_dim))\n",
    "\n",
    "    for word, i in tokenizer.word_index.items():\n",
    "        if word in word2vec_model:\n",
    "            embedding_matrix[i] = word2vec_model[word]\n",
    "    return max_sequence_length, train_padded, test_padded, vocab_size, embedding_matrix"
   ]
  },
  {
   "cell_type": "code",
   "execution_count": null,
   "metadata": {
    "tags": []
   },
   "outputs": [],
   "source": [
    "def random_forest(training_texts, testing_texts):\n",
    "    vectorizer = TfidfVectorizer(max_features=25000)\n",
    "    X_train_tfidf = vectorizer.fit_transform(training_texts)\n",
    "    X_test_tfidf = vectorizer.transform(testing_texts)\n",
    "    rf_clf = RandomForestClassifier(n_estimators=100)\n",
    "    return rf_clf,  X_train_tfidf, X_test_tfidf"
   ]
  },
  {
   "cell_type": "code",
   "execution_count": null,
   "metadata": {
    "tags": []
   },
   "outputs": [],
   "source": [
    "def build_CNN(max_sequence_length,embedding_dim, vocab_size, embedding_matrix):\n",
    "    input_layer = Input(shape=(max_sequence_length,))\n",
    "    embedding_layer = Embedding(vocab_size, embedding_dim, weights=[embedding_matrix], trainable=True)(input_layer)\n",
    "    conv1 = Conv1D(filters=256, kernel_size=1, activation='relu')(embedding_layer)\n",
    "    conv2 = Conv1D(filters=256, kernel_size=2, activation='relu')(embedding_layer)\n",
    "    conv3 = Conv1D(filters=256, kernel_size=3, activation='relu')(embedding_layer)\n",
    "\n",
    "    pool1 = GlobalMaxPooling1D()(conv1)\n",
    "    pool2 = GlobalMaxPooling1D()(conv2)\n",
    "    pool3 = GlobalMaxPooling1D()(conv3)\n",
    "\n",
    "    concat = tf.concat([pool1, pool2, pool3], axis=-1)\n",
    "    output_layer = Dense(1, activation='sigmoid')(concat)\n",
    "\n",
    "    model = Model(inputs=input_layer, outputs=output_layer)\n",
    "    model.compile(loss='binary_crossentropy', optimizer='adam', metrics=['accuracy'])\n",
    "    return model"
   ]
  },
  {
   "cell_type": "code",
   "execution_count": null,
   "metadata": {
    "tags": []
   },
   "outputs": [],
   "source": [
    "def chi_square_scores(test_texts, test_labels):\n",
    "    vectorizer = CountVectorizer(binary=True)\n",
    "    X_counts_correct = vectorizer.fit_transform(test_texts)\n",
    "    chi2_scores, p_values = chi2(X_counts_correct, test_labels)\n",
    "\n",
    "    # Sort the words based on their chi-square scores\n",
    "    sorted_indices = np.argsort(chi2_scores)[::-1]\n",
    "    sorted_words = np.array(vectorizer.get_feature_names_out())[sorted_indices]\n",
    "    sorted_scores = chi2_scores[sorted_indices]\n",
    "    return sorted_words, sorted_scores"
   ]
  },
  {
   "cell_type": "code",
   "execution_count": null,
   "metadata": {
    "tags": []
   },
   "outputs": [],
   "source": [
    "gen_train_texts, gen_test_texts, gen_train_labels, gen_test_labels = values_labels(train_gen, test_gen)\n",
    "print(f'training text size={gen_train_texts.shape[0]}')\n",
    "print(f'test text size={gen_test_texts.shape[0]}')\n",
    "print(f'training labels size={gen_train_labels.shape[0]}')\n",
    "print(f'test labels size={gen_test_labels.shape[0]}')"
   ]
  },
  {
   "cell_type": "code",
   "execution_count": null,
   "metadata": {
    "tags": []
   },
   "outputs": [],
   "source": [
    "thirty_day_train_texts, thirty_day_test_texts, thirty_day_train_labels, thirty_day_test_labels = values_labels(train_thirty, test_thirty)\n",
    "print(f'training text size={thirty_day_train_texts.shape[0]}')\n",
    "print(f'test text size={thirty_day_test_texts.shape[0]}')\n",
    "print(f'training labels size={thirty_day_train_labels.shape[0]}')\n",
    "print(f'test labels size={thirty_day_test_labels.shape[0]}')"
   ]
  },
  {
   "cell_type": "code",
   "execution_count": null,
   "metadata": {
    "tags": []
   },
   "outputs": [],
   "source": [
    "gen_rand_forest_classifier, gen_train_tfidf, gen_test_tfidf = random_forest(gen_train_texts, gen_test_texts)"
   ]
  },
  {
   "cell_type": "code",
   "execution_count": null,
   "metadata": {
    "tags": []
   },
   "outputs": [],
   "source": [
    "%%time\n",
    "gen_rand_forest_classifier.fit(gen_train_tfidf, gen_train_labels)"
   ]
  },
  {
   "cell_type": "code",
   "execution_count": null,
   "metadata": {
    "tags": []
   },
   "outputs": [],
   "source": [
    "# Make predictions on the test set\n",
    "gen_y_pred = gen_rand_forest_classifier.predict(gen_test_tfidf)\n",
    "accuracy = accuracy_score(gen_test_labels, gen_y_pred)\n",
    "precision = precision_score(gen_test_labels, gen_y_pred)\n",
    "recall = recall_score(gen_test_labels, gen_y_pred)\n",
    "f1 = f1_score(gen_test_labels, gen_y_pred)\n",
    "\n",
    "print(f\"Accuracy: {accuracy:.2f}\")\n",
    "print(f\"Precision: {precision:.2f}\")\n",
    "print(f\"Recall: {recall:.2f}\")\n",
    "print(f\"F1 score: {f1:.2f}\")"
   ]
  },
  {
   "cell_type": "code",
   "execution_count": null,
   "metadata": {
    "tags": []
   },
   "outputs": [],
   "source": [
    "thirty_day_rand_forest_classifier, thirty_day_train_tfidf, thirty_day_test_tfidf = random_forest(thirty_day_train_texts, thirty_day_test_texts)"
   ]
  },
  {
   "cell_type": "code",
   "execution_count": null,
   "metadata": {
    "tags": []
   },
   "outputs": [],
   "source": [
    "%%time\n",
    "thirty_day_rand_forest_classifier.fit(thirty_day_train_tfidf, thirty_day_train_labels)"
   ]
  },
  {
   "cell_type": "code",
   "execution_count": null,
   "metadata": {
    "tags": []
   },
   "outputs": [],
   "source": [
    "thirty_day_y_pred = thirty_day_rand_forest_classifier.predict(thirty_day_test_tfidf)\n",
    "accuracy = accuracy_score(thirty_day_test_labels, thirty_day_y_pred)\n",
    "recision = precision_score(thirty_day_test_labels, thirty_day_y_pred)\n",
    "recall = recall_score(thirty_day_test_labels, thirty_day_y_pred)\n",
    "f1 = f1_score(thirty_day_test_labels, thirty_day_y_pred)\n",
    "\n",
    "print(f\"Accuracy: {accuracy:.2f}\")\n",
    "print(f\"Precision: {precision:.2f}\")\n",
    "print(f\"Recall: {recall:.2f}\")\n",
    "print(f\"F1 score: {f1:.2f}\")"
   ]
  },
  {
   "cell_type": "code",
   "execution_count": null,
   "metadata": {
    "tags": []
   },
   "outputs": [],
   "source": [
    "max_sequence_length, gen_train_padded, gen_test_padded, gen_vocab_size, gen_embedding_matrix = build_embedding_info(gen_train_texts, gen_test_texts)"
   ]
  },
  {
   "cell_type": "code",
   "execution_count": null,
   "metadata": {
    "tags": []
   },
   "outputs": [],
   "source": [
    "gen_model = build_CNN(max_sequence_length, embedding_dim, gen_vocab_size, gen_embedding_matrix)"
   ]
  },
  {
   "cell_type": "code",
   "execution_count": null,
   "metadata": {
    "tags": []
   },
   "outputs": [],
   "source": [
    "%%time\n",
    "gen_model.fit(gen_train_padded, gen_train_labels, epochs=10, batch_size=10, validation_split=0.1)"
   ]
  },
  {
   "cell_type": "code",
   "execution_count": null,
   "metadata": {
    "tags": []
   },
   "outputs": [],
   "source": [
    "loss, accuracy = gen_model.evaluate(gen_test_padded, gen_test_labels)\n",
    "print(f'Test set accuracy: {accuracy}')"
   ]
  },
  {
   "cell_type": "code",
   "execution_count": null,
   "metadata": {
    "tags": []
   },
   "outputs": [],
   "source": [
    "test_predictions = gen_model.predict(gen_test_padded)\n",
    "\n",
    "# Set a threshold to classify predictions as positive or negative\n",
    "threshold = 0.7\n",
    "predicted_labels = [1 if pred >= threshold else 0 for pred in test_predictions]\n",
    "\n",
    "accuracy = accuracy_score(gen_test_labels, predicted_labels)\n",
    "precision = precision_score(gen_test_labels, predicted_labels)\n",
    "recall = recall_score(gen_test_labels, predicted_labels)\n",
    "f1 = f1_score(gen_test_labels, predicted_labels)\n",
    "\n",
    "print(f\"Accuracy: {accuracy:.2f}\")\n",
    "print(f\"Precision: {precision:.2f}\")\n",
    "print(f\"Recall: {recall:.2f}\")\n",
    "print(f\"F1 score: {f1:.2f}\")"
   ]
  },
  {
   "cell_type": "code",
   "execution_count": null,
   "metadata": {
    "tags": []
   },
   "outputs": [],
   "source": [
    "gen_correct_indices = np.where(predicted_labels == gen_test_labels)[0]\n",
    "gen_correct_texts = gen_test_texts[gen_correct_indices]\n",
    "gen_correct_labels = gen_test_labels[gen_correct_indices]"
   ]
  },
  {
   "cell_type": "code",
   "execution_count": null,
   "metadata": {
    "tags": []
   },
   "outputs": [],
   "source": [
    "max_sequence_length, thirty_day_train_padded, thirty_day_test_padded, thirty_day_vocab_size, thirty_day_embedding_matrix = build_embedding_info(thirty_day_train_texts, thirty_day_test_texts)"
   ]
  },
  {
   "cell_type": "code",
   "execution_count": null,
   "metadata": {
    "tags": []
   },
   "outputs": [],
   "source": [
    "thirty_day_model = build_CNN(max_sequence_length, embedding_dim, thirty_day_vocab_size, thirty_day_embedding_matrix)"
   ]
  },
  {
   "cell_type": "code",
   "execution_count": null,
   "metadata": {
    "tags": []
   },
   "outputs": [],
   "source": [
    "%%time\n",
    "thirty_day_model.fit(thirty_day_train_padded, thirty_day_train_labels, epochs=10, batch_size=10, validation_split=0.1)"
   ]
  },
  {
   "cell_type": "code",
   "execution_count": null,
   "metadata": {
    "tags": []
   },
   "outputs": [],
   "source": [
    "loss, accuracy = thirty_day_model.evaluate(thirty_day_test_padded, thirty_day_test_labels)\n",
    "print(f'Test set accuracy: {accuracy}')"
   ]
  },
  {
   "cell_type": "code",
   "execution_count": null,
   "metadata": {
    "tags": []
   },
   "outputs": [],
   "source": [
    "\n",
    "# Make predictions on the test set\n",
    "test_predictions = thirty_day_model.predict(thirty_day_test_padded)\n",
    "\n",
    "# Set a threshold to classify predictions as positive or negative\n",
    "threshold = 0.7\n",
    "predicted_labels = [1 if pred >= threshold else 0 for pred in test_predictions]\n",
    "\n",
    "accuracy = accuracy_score(thirty_day_test_labels, predicted_labels)\n",
    "precision = precision_score(thirty_day_test_labels, predicted_labels)\n",
    "recall = recall_score(thirty_day_test_labels, predicted_labels)\n",
    "f1 = f1_score(thirty_day_test_labels, predicted_labels)\n",
    "\n",
    "print(f\"Accuracy: {accuracy:.2f}\")\n",
    "print(f\"Precision: {precision:.2f}\")\n",
    "print(f\"Recall: {recall:.2f}\")\n",
    "print(f\"F1 score: {f1:.2f}\")"
   ]
  },
  {
   "cell_type": "code",
   "execution_count": null,
   "metadata": {
    "tags": []
   },
   "outputs": [],
   "source": [
    "thirty_day_correct_indices = np.where(predicted_labels == thirty_day_test_labels)[0]\n",
    "thirty_day_correct_texts = thirty_day_test_texts[thirty_day_correct_indices]\n",
    "thirty_day_correct_labels = thirty_day_test_labels[thirty_day_correct_indices]"
   ]
  },
  {
   "cell_type": "code",
   "execution_count": null,
   "metadata": {},
   "outputs": [],
   "source": [
    "#chi-squre analysis on gen admissions\n",
    "gen_words, gen_scores = chi_square_scores(gen_correct_texts, gen_correct_labels)\n",
    "num_features = 20\n",
    "for i in range(num_features):\n",
    "    print(f\"{gen_words[i]}: {gen_scores[i]:.2f}\")"
   ]
  },
  {
   "cell_type": "code",
   "execution_count": null,
   "metadata": {},
   "outputs": [],
   "source": [
    "#chi-squre analysis on thirty day admissions\n",
    "thirty_day_words, thirty_day_scores = chi_square_scores(thirty_day_correct_texts, thirty_day_correct_labels)\n",
    "num_features = 20\n",
    "for i in range(num_features):\n",
    "    print(f\"{thirty_day_words[i]}: {thirty_day_scores[i]:.2f}\")"
   ]
  },
  {
   "cell_type": "code",
   "execution_count": null,
   "metadata": {},
   "outputs": [],
   "source": []
  }
 ],
 "metadata": {
  "availableInstances": [
   {
    "_defaultOrder": 0,
    "_isFastLaunch": true,
    "category": "General purpose",
    "gpuNum": 0,
    "hideHardwareSpecs": false,
    "memoryGiB": 4,
    "name": "ml.t3.medium",
    "vcpuNum": 2
   },
   {
    "_defaultOrder": 1,
    "_isFastLaunch": false,
    "category": "General purpose",
    "gpuNum": 0,
    "hideHardwareSpecs": false,
    "memoryGiB": 8,
    "name": "ml.t3.large",
    "vcpuNum": 2
   },
   {
    "_defaultOrder": 2,
    "_isFastLaunch": false,
    "category": "General purpose",
    "gpuNum": 0,
    "hideHardwareSpecs": false,
    "memoryGiB": 16,
    "name": "ml.t3.xlarge",
    "vcpuNum": 4
   },
   {
    "_defaultOrder": 3,
    "_isFastLaunch": false,
    "category": "General purpose",
    "gpuNum": 0,
    "hideHardwareSpecs": false,
    "memoryGiB": 32,
    "name": "ml.t3.2xlarge",
    "vcpuNum": 8
   },
   {
    "_defaultOrder": 4,
    "_isFastLaunch": true,
    "category": "General purpose",
    "gpuNum": 0,
    "hideHardwareSpecs": false,
    "memoryGiB": 8,
    "name": "ml.m5.large",
    "vcpuNum": 2
   },
   {
    "_defaultOrder": 5,
    "_isFastLaunch": false,
    "category": "General purpose",
    "gpuNum": 0,
    "hideHardwareSpecs": false,
    "memoryGiB": 16,
    "name": "ml.m5.xlarge",
    "vcpuNum": 4
   },
   {
    "_defaultOrder": 6,
    "_isFastLaunch": false,
    "category": "General purpose",
    "gpuNum": 0,
    "hideHardwareSpecs": false,
    "memoryGiB": 32,
    "name": "ml.m5.2xlarge",
    "vcpuNum": 8
   },
   {
    "_defaultOrder": 7,
    "_isFastLaunch": false,
    "category": "General purpose",
    "gpuNum": 0,
    "hideHardwareSpecs": false,
    "memoryGiB": 64,
    "name": "ml.m5.4xlarge",
    "vcpuNum": 16
   },
   {
    "_defaultOrder": 8,
    "_isFastLaunch": false,
    "category": "General purpose",
    "gpuNum": 0,
    "hideHardwareSpecs": false,
    "memoryGiB": 128,
    "name": "ml.m5.8xlarge",
    "vcpuNum": 32
   },
   {
    "_defaultOrder": 9,
    "_isFastLaunch": false,
    "category": "General purpose",
    "gpuNum": 0,
    "hideHardwareSpecs": false,
    "memoryGiB": 192,
    "name": "ml.m5.12xlarge",
    "vcpuNum": 48
   },
   {
    "_defaultOrder": 10,
    "_isFastLaunch": false,
    "category": "General purpose",
    "gpuNum": 0,
    "hideHardwareSpecs": false,
    "memoryGiB": 256,
    "name": "ml.m5.16xlarge",
    "vcpuNum": 64
   },
   {
    "_defaultOrder": 11,
    "_isFastLaunch": false,
    "category": "General purpose",
    "gpuNum": 0,
    "hideHardwareSpecs": false,
    "memoryGiB": 384,
    "name": "ml.m5.24xlarge",
    "vcpuNum": 96
   },
   {
    "_defaultOrder": 12,
    "_isFastLaunch": false,
    "category": "General purpose",
    "gpuNum": 0,
    "hideHardwareSpecs": false,
    "memoryGiB": 8,
    "name": "ml.m5d.large",
    "vcpuNum": 2
   },
   {
    "_defaultOrder": 13,
    "_isFastLaunch": false,
    "category": "General purpose",
    "gpuNum": 0,
    "hideHardwareSpecs": false,
    "memoryGiB": 16,
    "name": "ml.m5d.xlarge",
    "vcpuNum": 4
   },
   {
    "_defaultOrder": 14,
    "_isFastLaunch": false,
    "category": "General purpose",
    "gpuNum": 0,
    "hideHardwareSpecs": false,
    "memoryGiB": 32,
    "name": "ml.m5d.2xlarge",
    "vcpuNum": 8
   },
   {
    "_defaultOrder": 15,
    "_isFastLaunch": false,
    "category": "General purpose",
    "gpuNum": 0,
    "hideHardwareSpecs": false,
    "memoryGiB": 64,
    "name": "ml.m5d.4xlarge",
    "vcpuNum": 16
   },
   {
    "_defaultOrder": 16,
    "_isFastLaunch": false,
    "category": "General purpose",
    "gpuNum": 0,
    "hideHardwareSpecs": false,
    "memoryGiB": 128,
    "name": "ml.m5d.8xlarge",
    "vcpuNum": 32
   },
   {
    "_defaultOrder": 17,
    "_isFastLaunch": false,
    "category": "General purpose",
    "gpuNum": 0,
    "hideHardwareSpecs": false,
    "memoryGiB": 192,
    "name": "ml.m5d.12xlarge",
    "vcpuNum": 48
   },
   {
    "_defaultOrder": 18,
    "_isFastLaunch": false,
    "category": "General purpose",
    "gpuNum": 0,
    "hideHardwareSpecs": false,
    "memoryGiB": 256,
    "name": "ml.m5d.16xlarge",
    "vcpuNum": 64
   },
   {
    "_defaultOrder": 19,
    "_isFastLaunch": false,
    "category": "General purpose",
    "gpuNum": 0,
    "hideHardwareSpecs": false,
    "memoryGiB": 384,
    "name": "ml.m5d.24xlarge",
    "vcpuNum": 96
   },
   {
    "_defaultOrder": 20,
    "_isFastLaunch": false,
    "category": "General purpose",
    "gpuNum": 0,
    "hideHardwareSpecs": true,
    "memoryGiB": 0,
    "name": "ml.geospatial.interactive",
    "supportedImageNames": [
     "sagemaker-geospatial-v1-0"
    ],
    "vcpuNum": 0
   },
   {
    "_defaultOrder": 21,
    "_isFastLaunch": true,
    "category": "Compute optimized",
    "gpuNum": 0,
    "hideHardwareSpecs": false,
    "memoryGiB": 4,
    "name": "ml.c5.large",
    "vcpuNum": 2
   },
   {
    "_defaultOrder": 22,
    "_isFastLaunch": false,
    "category": "Compute optimized",
    "gpuNum": 0,
    "hideHardwareSpecs": false,
    "memoryGiB": 8,
    "name": "ml.c5.xlarge",
    "vcpuNum": 4
   },
   {
    "_defaultOrder": 23,
    "_isFastLaunch": false,
    "category": "Compute optimized",
    "gpuNum": 0,
    "hideHardwareSpecs": false,
    "memoryGiB": 16,
    "name": "ml.c5.2xlarge",
    "vcpuNum": 8
   },
   {
    "_defaultOrder": 24,
    "_isFastLaunch": false,
    "category": "Compute optimized",
    "gpuNum": 0,
    "hideHardwareSpecs": false,
    "memoryGiB": 32,
    "name": "ml.c5.4xlarge",
    "vcpuNum": 16
   },
   {
    "_defaultOrder": 25,
    "_isFastLaunch": false,
    "category": "Compute optimized",
    "gpuNum": 0,
    "hideHardwareSpecs": false,
    "memoryGiB": 72,
    "name": "ml.c5.9xlarge",
    "vcpuNum": 36
   },
   {
    "_defaultOrder": 26,
    "_isFastLaunch": false,
    "category": "Compute optimized",
    "gpuNum": 0,
    "hideHardwareSpecs": false,
    "memoryGiB": 96,
    "name": "ml.c5.12xlarge",
    "vcpuNum": 48
   },
   {
    "_defaultOrder": 27,
    "_isFastLaunch": false,
    "category": "Compute optimized",
    "gpuNum": 0,
    "hideHardwareSpecs": false,
    "memoryGiB": 144,
    "name": "ml.c5.18xlarge",
    "vcpuNum": 72
   },
   {
    "_defaultOrder": 28,
    "_isFastLaunch": false,
    "category": "Compute optimized",
    "gpuNum": 0,
    "hideHardwareSpecs": false,
    "memoryGiB": 192,
    "name": "ml.c5.24xlarge",
    "vcpuNum": 96
   },
   {
    "_defaultOrder": 29,
    "_isFastLaunch": true,
    "category": "Accelerated computing",
    "gpuNum": 1,
    "hideHardwareSpecs": false,
    "memoryGiB": 16,
    "name": "ml.g4dn.xlarge",
    "vcpuNum": 4
   },
   {
    "_defaultOrder": 30,
    "_isFastLaunch": false,
    "category": "Accelerated computing",
    "gpuNum": 1,
    "hideHardwareSpecs": false,
    "memoryGiB": 32,
    "name": "ml.g4dn.2xlarge",
    "vcpuNum": 8
   },
   {
    "_defaultOrder": 31,
    "_isFastLaunch": false,
    "category": "Accelerated computing",
    "gpuNum": 1,
    "hideHardwareSpecs": false,
    "memoryGiB": 64,
    "name": "ml.g4dn.4xlarge",
    "vcpuNum": 16
   },
   {
    "_defaultOrder": 32,
    "_isFastLaunch": false,
    "category": "Accelerated computing",
    "gpuNum": 1,
    "hideHardwareSpecs": false,
    "memoryGiB": 128,
    "name": "ml.g4dn.8xlarge",
    "vcpuNum": 32
   },
   {
    "_defaultOrder": 33,
    "_isFastLaunch": false,
    "category": "Accelerated computing",
    "gpuNum": 4,
    "hideHardwareSpecs": false,
    "memoryGiB": 192,
    "name": "ml.g4dn.12xlarge",
    "vcpuNum": 48
   },
   {
    "_defaultOrder": 34,
    "_isFastLaunch": false,
    "category": "Accelerated computing",
    "gpuNum": 1,
    "hideHardwareSpecs": false,
    "memoryGiB": 256,
    "name": "ml.g4dn.16xlarge",
    "vcpuNum": 64
   },
   {
    "_defaultOrder": 35,
    "_isFastLaunch": false,
    "category": "Accelerated computing",
    "gpuNum": 1,
    "hideHardwareSpecs": false,
    "memoryGiB": 61,
    "name": "ml.p3.2xlarge",
    "vcpuNum": 8
   },
   {
    "_defaultOrder": 36,
    "_isFastLaunch": false,
    "category": "Accelerated computing",
    "gpuNum": 4,
    "hideHardwareSpecs": false,
    "memoryGiB": 244,
    "name": "ml.p3.8xlarge",
    "vcpuNum": 32
   },
   {
    "_defaultOrder": 37,
    "_isFastLaunch": false,
    "category": "Accelerated computing",
    "gpuNum": 8,
    "hideHardwareSpecs": false,
    "memoryGiB": 488,
    "name": "ml.p3.16xlarge",
    "vcpuNum": 64
   },
   {
    "_defaultOrder": 38,
    "_isFastLaunch": false,
    "category": "Accelerated computing",
    "gpuNum": 8,
    "hideHardwareSpecs": false,
    "memoryGiB": 768,
    "name": "ml.p3dn.24xlarge",
    "vcpuNum": 96
   },
   {
    "_defaultOrder": 39,
    "_isFastLaunch": false,
    "category": "Memory Optimized",
    "gpuNum": 0,
    "hideHardwareSpecs": false,
    "memoryGiB": 16,
    "name": "ml.r5.large",
    "vcpuNum": 2
   },
   {
    "_defaultOrder": 40,
    "_isFastLaunch": false,
    "category": "Memory Optimized",
    "gpuNum": 0,
    "hideHardwareSpecs": false,
    "memoryGiB": 32,
    "name": "ml.r5.xlarge",
    "vcpuNum": 4
   },
   {
    "_defaultOrder": 41,
    "_isFastLaunch": false,
    "category": "Memory Optimized",
    "gpuNum": 0,
    "hideHardwareSpecs": false,
    "memoryGiB": 64,
    "name": "ml.r5.2xlarge",
    "vcpuNum": 8
   },
   {
    "_defaultOrder": 42,
    "_isFastLaunch": false,
    "category": "Memory Optimized",
    "gpuNum": 0,
    "hideHardwareSpecs": false,
    "memoryGiB": 128,
    "name": "ml.r5.4xlarge",
    "vcpuNum": 16
   },
   {
    "_defaultOrder": 43,
    "_isFastLaunch": false,
    "category": "Memory Optimized",
    "gpuNum": 0,
    "hideHardwareSpecs": false,
    "memoryGiB": 256,
    "name": "ml.r5.8xlarge",
    "vcpuNum": 32
   },
   {
    "_defaultOrder": 44,
    "_isFastLaunch": false,
    "category": "Memory Optimized",
    "gpuNum": 0,
    "hideHardwareSpecs": false,
    "memoryGiB": 384,
    "name": "ml.r5.12xlarge",
    "vcpuNum": 48
   },
   {
    "_defaultOrder": 45,
    "_isFastLaunch": false,
    "category": "Memory Optimized",
    "gpuNum": 0,
    "hideHardwareSpecs": false,
    "memoryGiB": 512,
    "name": "ml.r5.16xlarge",
    "vcpuNum": 64
   },
   {
    "_defaultOrder": 46,
    "_isFastLaunch": false,
    "category": "Memory Optimized",
    "gpuNum": 0,
    "hideHardwareSpecs": false,
    "memoryGiB": 768,
    "name": "ml.r5.24xlarge",
    "vcpuNum": 96
   },
   {
    "_defaultOrder": 47,
    "_isFastLaunch": false,
    "category": "Accelerated computing",
    "gpuNum": 1,
    "hideHardwareSpecs": false,
    "memoryGiB": 16,
    "name": "ml.g5.xlarge",
    "vcpuNum": 4
   },
   {
    "_defaultOrder": 48,
    "_isFastLaunch": false,
    "category": "Accelerated computing",
    "gpuNum": 1,
    "hideHardwareSpecs": false,
    "memoryGiB": 32,
    "name": "ml.g5.2xlarge",
    "vcpuNum": 8
   },
   {
    "_defaultOrder": 49,
    "_isFastLaunch": false,
    "category": "Accelerated computing",
    "gpuNum": 1,
    "hideHardwareSpecs": false,
    "memoryGiB": 64,
    "name": "ml.g5.4xlarge",
    "vcpuNum": 16
   },
   {
    "_defaultOrder": 50,
    "_isFastLaunch": false,
    "category": "Accelerated computing",
    "gpuNum": 1,
    "hideHardwareSpecs": false,
    "memoryGiB": 128,
    "name": "ml.g5.8xlarge",
    "vcpuNum": 32
   },
   {
    "_defaultOrder": 51,
    "_isFastLaunch": false,
    "category": "Accelerated computing",
    "gpuNum": 1,
    "hideHardwareSpecs": false,
    "memoryGiB": 256,
    "name": "ml.g5.16xlarge",
    "vcpuNum": 64
   },
   {
    "_defaultOrder": 52,
    "_isFastLaunch": false,
    "category": "Accelerated computing",
    "gpuNum": 4,
    "hideHardwareSpecs": false,
    "memoryGiB": 192,
    "name": "ml.g5.12xlarge",
    "vcpuNum": 48
   },
   {
    "_defaultOrder": 53,
    "_isFastLaunch": false,
    "category": "Accelerated computing",
    "gpuNum": 4,
    "hideHardwareSpecs": false,
    "memoryGiB": 384,
    "name": "ml.g5.24xlarge",
    "vcpuNum": 96
   },
   {
    "_defaultOrder": 54,
    "_isFastLaunch": false,
    "category": "Accelerated computing",
    "gpuNum": 8,
    "hideHardwareSpecs": false,
    "memoryGiB": 768,
    "name": "ml.g5.48xlarge",
    "vcpuNum": 192
   },
   {
    "_defaultOrder": 55,
    "_isFastLaunch": false,
    "category": "Accelerated computing",
    "gpuNum": 8,
    "hideHardwareSpecs": false,
    "memoryGiB": 1152,
    "name": "ml.p4d.24xlarge",
    "vcpuNum": 96
   },
   {
    "_defaultOrder": 56,
    "_isFastLaunch": false,
    "category": "Accelerated computing",
    "gpuNum": 8,
    "hideHardwareSpecs": false,
    "memoryGiB": 1152,
    "name": "ml.p4de.24xlarge",
    "vcpuNum": 96
   }
  ],
  "colab": {
   "provenance": []
  },
  "instance_type": "ml.m5.2xlarge",
  "kernelspec": {
   "display_name": "Python 3 (TensorFlow 2.10.0 Python 3.9 GPU Optimized)",
   "language": "python",
   "name": "python3__SAGEMAKER_INTERNAL__arn:aws:sagemaker:us-east-2:429704687514:image/tensorflow-2.10.1-gpu-py39-cu112-ubuntu20.04-sagemaker-v1.2"
  },
  "language_info": {
   "codemirror_mode": {
    "name": "ipython",
    "version": 3
   },
   "file_extension": ".py",
   "mimetype": "text/x-python",
   "name": "python",
   "nbconvert_exporter": "python",
   "pygments_lexer": "ipython3",
   "version": "3.9.16"
  }
 },
 "nbformat": 4,
 "nbformat_minor": 4
}
